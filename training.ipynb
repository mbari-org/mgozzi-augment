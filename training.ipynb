{
 "cells": [
  {
   "cell_type": "markdown",
   "metadata": {},
   "source": [
    "# Training the Deepsea Network\n",
    "This project incorporates wandb directly inside the YOLOv5 network (wandb support was added by ultralytics). This notebook allows us to retrain the model and see how train time augmentations can improve the networks ability to detect and track objects without increasing the data sample size. \n",
    "\n",
    "## Notes\n",
    "Training using the ml.p3.2xlarge is about 10x faster ml.t3.medium which makes the p3 more cost effective. \n",
    "\n",
    "## Known Issues\n",
    "When running the training script in quick succession on the g4dn.xlarge, a memory issue may arise. Shut down the running instance and wait for the machine to become available again and restart the program. This seems to be an issue related to YOLOv5 and Sagemaker's use of a RAM partition as \"storage.\""
   ]
  },
  {
   "cell_type": "markdown",
   "metadata": {},
   "source": [
    "## Install Dependencies"
   ]
  },
  {
   "cell_type": "code",
   "execution_count": 3,
   "metadata": {
    "scrolled": true
   },
   "outputs": [
    {
     "name": "stdout",
     "output_type": "stream",
     "text": [
      "Requirement already satisfied: matplotlib>=3.2.2 in /opt/conda/lib/python3.8/site-packages (from -r deepsea-yolov5/yolov5/requirements.txt (line 5)) (3.5.1)\n",
      "Requirement already satisfied: numpy>=1.18.5 in /opt/conda/lib/python3.8/site-packages (from -r deepsea-yolov5/yolov5/requirements.txt (line 6)) (1.22.2)\n",
      "Requirement already satisfied: opencv-python>=4.1.1 in /opt/conda/lib/python3.8/site-packages (from -r deepsea-yolov5/yolov5/requirements.txt (line 7)) (4.5.5.62)\n",
      "Requirement already satisfied: Pillow>=7.1.2 in /opt/conda/lib/python3.8/site-packages (from -r deepsea-yolov5/yolov5/requirements.txt (line 8)) (9.0.1)\n",
      "Requirement already satisfied: PyYAML>=5.3.1 in /opt/conda/lib/python3.8/site-packages (from -r deepsea-yolov5/yolov5/requirements.txt (line 9)) (5.4.1)\n",
      "Requirement already satisfied: requests>=2.23.0 in /opt/conda/lib/python3.8/site-packages (from -r deepsea-yolov5/yolov5/requirements.txt (line 10)) (2.27.1)\n",
      "Requirement already satisfied: scipy>=1.4.1 in /opt/conda/lib/python3.8/site-packages (from -r deepsea-yolov5/yolov5/requirements.txt (line 11)) (1.8.0)\n",
      "Requirement already satisfied: torch!=1.12.0,>=1.7.0 in /opt/conda/lib/python3.8/site-packages (from -r deepsea-yolov5/yolov5/requirements.txt (line 12)) (1.10.2+cu113)\n",
      "Requirement already satisfied: torchvision!=0.13.0,>=0.8.1 in /opt/conda/lib/python3.8/site-packages (from -r deepsea-yolov5/yolov5/requirements.txt (line 13)) (0.11.3)\n",
      "Requirement already satisfied: tqdm>=4.41.0 in /opt/conda/lib/python3.8/site-packages (from -r deepsea-yolov5/yolov5/requirements.txt (line 14)) (4.62.3)\n",
      "Requirement already satisfied: protobuf<4.21.3 in /opt/conda/lib/python3.8/site-packages (from -r deepsea-yolov5/yolov5/requirements.txt (line 15)) (3.19.4)\n",
      "Collecting tensorboard>=2.4.1\n",
      "  Using cached tensorboard-2.9.1-py3-none-any.whl (5.8 MB)\n",
      "Requirement already satisfied: pandas>=1.1.4 in /opt/conda/lib/python3.8/site-packages (from -r deepsea-yolov5/yolov5/requirements.txt (line 22)) (1.4.1)\n",
      "Requirement already satisfied: seaborn>=0.11.0 in /opt/conda/lib/python3.8/site-packages (from -r deepsea-yolov5/yolov5/requirements.txt (line 23)) (0.11.2)\n",
      "Requirement already satisfied: ipython in /opt/conda/lib/python3.8/site-packages (from -r deepsea-yolov5/yolov5/requirements.txt (line 35)) (8.0.1)\n",
      "Requirement already satisfied: psutil in /opt/conda/lib/python3.8/site-packages (from -r deepsea-yolov5/yolov5/requirements.txt (line 36)) (5.9.0)\n",
      "Collecting thop\n",
      "  Using cached thop-0.1.1.post2207130030-py3-none-any.whl (15 kB)\n",
      "Requirement already satisfied: packaging>=20.0 in /opt/conda/lib/python3.8/site-packages (from matplotlib>=3.2.2->-r deepsea-yolov5/yolov5/requirements.txt (line 5)) (21.3)\n",
      "Requirement already satisfied: pyparsing>=2.2.1 in /opt/conda/lib/python3.8/site-packages (from matplotlib>=3.2.2->-r deepsea-yolov5/yolov5/requirements.txt (line 5)) (3.0.7)\n",
      "Requirement already satisfied: fonttools>=4.22.0 in /opt/conda/lib/python3.8/site-packages (from matplotlib>=3.2.2->-r deepsea-yolov5/yolov5/requirements.txt (line 5)) (4.29.1)\n",
      "Requirement already satisfied: python-dateutil>=2.7 in /opt/conda/lib/python3.8/site-packages (from matplotlib>=3.2.2->-r deepsea-yolov5/yolov5/requirements.txt (line 5)) (2.8.2)\n",
      "Requirement already satisfied: cycler>=0.10 in /opt/conda/lib/python3.8/site-packages (from matplotlib>=3.2.2->-r deepsea-yolov5/yolov5/requirements.txt (line 5)) (0.11.0)\n",
      "Requirement already satisfied: kiwisolver>=1.0.1 in /opt/conda/lib/python3.8/site-packages (from matplotlib>=3.2.2->-r deepsea-yolov5/yolov5/requirements.txt (line 5)) (1.3.2)\n",
      "Requirement already satisfied: certifi>=2017.4.17 in /opt/conda/lib/python3.8/site-packages (from requests>=2.23.0->-r deepsea-yolov5/yolov5/requirements.txt (line 10)) (2021.10.8)\n",
      "Requirement already satisfied: urllib3<1.27,>=1.21.1 in /opt/conda/lib/python3.8/site-packages (from requests>=2.23.0->-r deepsea-yolov5/yolov5/requirements.txt (line 10)) (1.26.7)\n",
      "Requirement already satisfied: idna<4,>=2.5 in /opt/conda/lib/python3.8/site-packages (from requests>=2.23.0->-r deepsea-yolov5/yolov5/requirements.txt (line 10)) (3.3)\n",
      "Requirement already satisfied: charset-normalizer~=2.0.0 in /opt/conda/lib/python3.8/site-packages (from requests>=2.23.0->-r deepsea-yolov5/yolov5/requirements.txt (line 10)) (2.0.4)\n",
      "Requirement already satisfied: typing-extensions in /opt/conda/lib/python3.8/site-packages (from torch!=1.12.0,>=1.7.0->-r deepsea-yolov5/yolov5/requirements.txt (line 12)) (4.1.1)\n",
      "Requirement already satisfied: setuptools>=41.0.0 in /opt/conda/lib/python3.8/site-packages (from tensorboard>=2.4.1->-r deepsea-yolov5/yolov5/requirements.txt (line 18)) (60.9.3)\n",
      "Collecting google-auth-oauthlib<0.5,>=0.4.1\n",
      "  Using cached google_auth_oauthlib-0.4.6-py2.py3-none-any.whl (18 kB)\n",
      "Collecting tensorboard-plugin-wit>=1.6.0\n",
      "  Using cached tensorboard_plugin_wit-1.8.1-py3-none-any.whl (781 kB)\n",
      "Collecting absl-py>=0.4\n",
      "  Using cached absl_py-1.2.0-py3-none-any.whl (123 kB)\n",
      "Collecting markdown>=2.6.8\n",
      "  Using cached Markdown-3.4.1-py3-none-any.whl (93 kB)\n",
      "Requirement already satisfied: werkzeug>=1.0.1 in /opt/conda/lib/python3.8/site-packages (from tensorboard>=2.4.1->-r deepsea-yolov5/yolov5/requirements.txt (line 18)) (2.0.3)\n",
      "Collecting google-auth<3,>=1.6.3\n",
      "  Using cached google_auth-2.9.1-py2.py3-none-any.whl (167 kB)\n",
      "Requirement already satisfied: wheel>=0.26 in /opt/conda/lib/python3.8/site-packages (from tensorboard>=2.4.1->-r deepsea-yolov5/yolov5/requirements.txt (line 18)) (0.37.1)\n",
      "Collecting tensorboard-data-server<0.7.0,>=0.6.0\n",
      "  Using cached tensorboard_data_server-0.6.1-py3-none-manylinux2010_x86_64.whl (4.9 MB)\n",
      "Collecting grpcio>=1.24.3\n",
      "  Using cached grpcio-1.47.0-cp38-cp38-manylinux_2_17_x86_64.manylinux2014_x86_64.whl (4.5 MB)\n",
      "Requirement already satisfied: pytz>=2020.1 in /opt/conda/lib/python3.8/site-packages (from pandas>=1.1.4->-r deepsea-yolov5/yolov5/requirements.txt (line 22)) (2021.3)\n",
      "Requirement already satisfied: prompt-toolkit!=3.0.0,!=3.0.1,<3.1.0,>=2.0.0 in /opt/conda/lib/python3.8/site-packages (from ipython->-r deepsea-yolov5/yolov5/requirements.txt (line 35)) (3.0.29)\n",
      "Requirement already satisfied: matplotlib-inline in /opt/conda/lib/python3.8/site-packages (from ipython->-r deepsea-yolov5/yolov5/requirements.txt (line 35)) (0.1.3)\n",
      "Requirement already satisfied: jedi>=0.16 in /opt/conda/lib/python3.8/site-packages (from ipython->-r deepsea-yolov5/yolov5/requirements.txt (line 35)) (0.18.1)\n",
      "Requirement already satisfied: stack-data in /opt/conda/lib/python3.8/site-packages (from ipython->-r deepsea-yolov5/yolov5/requirements.txt (line 35)) (0.2.0)\n",
      "Requirement already satisfied: black in /opt/conda/lib/python3.8/site-packages (from ipython->-r deepsea-yolov5/yolov5/requirements.txt (line 35)) (22.1.0)\n",
      "Requirement already satisfied: traitlets>=5 in /opt/conda/lib/python3.8/site-packages (from ipython->-r deepsea-yolov5/yolov5/requirements.txt (line 35)) (5.1.1)\n",
      "Requirement already satisfied: decorator in /opt/conda/lib/python3.8/site-packages (from ipython->-r deepsea-yolov5/yolov5/requirements.txt (line 35)) (5.1.1)\n",
      "Requirement already satisfied: pygments in /opt/conda/lib/python3.8/site-packages (from ipython->-r deepsea-yolov5/yolov5/requirements.txt (line 35)) (2.12.0)\n",
      "Requirement already satisfied: pickleshare in /opt/conda/lib/python3.8/site-packages (from ipython->-r deepsea-yolov5/yolov5/requirements.txt (line 35)) (0.7.5)\n",
      "Requirement already satisfied: backcall in /opt/conda/lib/python3.8/site-packages (from ipython->-r deepsea-yolov5/yolov5/requirements.txt (line 35)) (0.2.0)\n",
      "Requirement already satisfied: pexpect>4.3 in /opt/conda/lib/python3.8/site-packages (from ipython->-r deepsea-yolov5/yolov5/requirements.txt (line 35)) (4.8.0)\n",
      "Collecting pyasn1-modules>=0.2.1\n",
      "  Using cached pyasn1_modules-0.2.8-py2.py3-none-any.whl (155 kB)\n",
      "Requirement already satisfied: rsa<5,>=3.1.4 in /opt/conda/lib/python3.8/site-packages (from google-auth<3,>=1.6.3->tensorboard>=2.4.1->-r deepsea-yolov5/yolov5/requirements.txt (line 18)) (4.7.2)\n",
      "Requirement already satisfied: six>=1.9.0 in /opt/conda/lib/python3.8/site-packages (from google-auth<3,>=1.6.3->tensorboard>=2.4.1->-r deepsea-yolov5/yolov5/requirements.txt (line 18)) (1.16.0)\n",
      "Collecting cachetools<6.0,>=2.0.0\n",
      "  Using cached cachetools-5.2.0-py3-none-any.whl (9.3 kB)\n",
      "Collecting requests-oauthlib>=0.7.0\n",
      "  Using cached requests_oauthlib-1.3.1-py2.py3-none-any.whl (23 kB)\n",
      "Requirement already satisfied: parso<0.9.0,>=0.8.0 in /opt/conda/lib/python3.8/site-packages (from jedi>=0.16->ipython->-r deepsea-yolov5/yolov5/requirements.txt (line 35)) (0.8.3)\n",
      "Requirement already satisfied: importlib-metadata>=4.4 in /opt/conda/lib/python3.8/site-packages (from markdown>=2.6.8->tensorboard>=2.4.1->-r deepsea-yolov5/yolov5/requirements.txt (line 18)) (4.11.2)\n",
      "Requirement already satisfied: ptyprocess>=0.5 in /opt/conda/lib/python3.8/site-packages (from pexpect>4.3->ipython->-r deepsea-yolov5/yolov5/requirements.txt (line 35)) (0.7.0)\n",
      "Requirement already satisfied: wcwidth in /opt/conda/lib/python3.8/site-packages (from prompt-toolkit!=3.0.0,!=3.0.1,<3.1.0,>=2.0.0->ipython->-r deepsea-yolov5/yolov5/requirements.txt (line 35)) (0.2.5)\n",
      "Requirement already satisfied: click>=8.0.0 in /opt/conda/lib/python3.8/site-packages (from black->ipython->-r deepsea-yolov5/yolov5/requirements.txt (line 35)) (8.0.4)\n",
      "Requirement already satisfied: platformdirs>=2 in /opt/conda/lib/python3.8/site-packages (from black->ipython->-r deepsea-yolov5/yolov5/requirements.txt (line 35)) (2.5.1)\n",
      "Requirement already satisfied: pathspec>=0.9.0 in /opt/conda/lib/python3.8/site-packages (from black->ipython->-r deepsea-yolov5/yolov5/requirements.txt (line 35)) (0.9.0)\n",
      "Requirement already satisfied: mypy-extensions>=0.4.3 in /opt/conda/lib/python3.8/site-packages (from black->ipython->-r deepsea-yolov5/yolov5/requirements.txt (line 35)) (0.4.3)\n",
      "Requirement already satisfied: tomli>=1.1.0 in /opt/conda/lib/python3.8/site-packages (from black->ipython->-r deepsea-yolov5/yolov5/requirements.txt (line 35)) (2.0.1)\n",
      "Requirement already satisfied: pure-eval in /opt/conda/lib/python3.8/site-packages (from stack-data->ipython->-r deepsea-yolov5/yolov5/requirements.txt (line 35)) (0.2.2)\n",
      "Requirement already satisfied: executing in /opt/conda/lib/python3.8/site-packages (from stack-data->ipython->-r deepsea-yolov5/yolov5/requirements.txt (line 35)) (0.8.3)\n",
      "Requirement already satisfied: asttokens in /opt/conda/lib/python3.8/site-packages (from stack-data->ipython->-r deepsea-yolov5/yolov5/requirements.txt (line 35)) (2.0.5)\n",
      "Requirement already satisfied: zipp>=0.5 in /opt/conda/lib/python3.8/site-packages (from importlib-metadata>=4.4->markdown>=2.6.8->tensorboard>=2.4.1->-r deepsea-yolov5/yolov5/requirements.txt (line 18)) (3.7.0)\n",
      "Requirement already satisfied: pyasn1<0.5.0,>=0.4.6 in /opt/conda/lib/python3.8/site-packages (from pyasn1-modules>=0.2.1->google-auth<3,>=1.6.3->tensorboard>=2.4.1->-r deepsea-yolov5/yolov5/requirements.txt (line 18)) (0.4.8)\n",
      "Collecting oauthlib>=3.0.0\n",
      "  Using cached oauthlib-3.2.0-py3-none-any.whl (151 kB)\n",
      "Installing collected packages: tensorboard-plugin-wit, tensorboard-data-server, pyasn1-modules, oauthlib, grpcio, cachetools, absl-py, thop, requests-oauthlib, markdown, google-auth, google-auth-oauthlib, tensorboard\n",
      "Successfully installed absl-py-1.2.0 cachetools-5.2.0 google-auth-2.9.1 google-auth-oauthlib-0.4.6 grpcio-1.47.0 markdown-3.4.1 oauthlib-3.2.0 pyasn1-modules-0.2.8 requests-oauthlib-1.3.1 tensorboard-2.9.1 tensorboard-data-server-0.6.1 tensorboard-plugin-wit-1.8.1 thop-0.1.1.post2207130030\n",
      "\u001b[33mWARNING: Running pip as the 'root' user can result in broken permissions and conflicting behaviour with the system package manager. It is recommended to use a virtual environment instead: https://pip.pypa.io/warnings/venv\u001b[0m\u001b[33m\n",
      "\u001b[0mCollecting wandb\n",
      "  Using cached wandb-0.12.21-py2.py3-none-any.whl (1.8 MB)\n",
      "Collecting setproctitle\n",
      "  Using cached setproctitle-1.2.3-cp38-cp38-manylinux_2_5_x86_64.manylinux1_x86_64.manylinux_2_17_x86_64.manylinux2014_x86_64.whl (29 kB)\n",
      "Requirement already satisfied: six>=1.13.0 in /opt/conda/lib/python3.8/site-packages (from wandb) (1.16.0)\n",
      "Collecting promise<3,>=2.0\n",
      "  Using cached promise-2.3-py3-none-any.whl\n",
      "Collecting shortuuid>=0.5.0\n",
      "  Using cached shortuuid-1.0.9-py3-none-any.whl (9.4 kB)\n",
      "Collecting GitPython>=1.0.0\n",
      "  Using cached GitPython-3.1.27-py3-none-any.whl (181 kB)\n",
      "Requirement already satisfied: setuptools in /opt/conda/lib/python3.8/site-packages (from wandb) (60.9.3)\n",
      "Requirement already satisfied: protobuf<4.0dev,>=3.12.0 in /opt/conda/lib/python3.8/site-packages (from wandb) (3.19.4)\n",
      "Collecting docker-pycreds>=0.4.0\n",
      "  Using cached docker_pycreds-0.4.0-py2.py3-none-any.whl (9.0 kB)\n",
      "Requirement already satisfied: psutil>=5.0.0 in /opt/conda/lib/python3.8/site-packages (from wandb) (5.9.0)\n",
      "Requirement already satisfied: Click!=8.0.0,>=7.0 in /opt/conda/lib/python3.8/site-packages (from wandb) (8.0.4)\n",
      "Requirement already satisfied: requests<3,>=2.0.0 in /opt/conda/lib/python3.8/site-packages (from wandb) (2.27.1)\n",
      "Collecting pathtools\n",
      "  Using cached pathtools-0.1.2-py3-none-any.whl\n",
      "Requirement already satisfied: PyYAML in /opt/conda/lib/python3.8/site-packages (from wandb) (5.4.1)\n",
      "Collecting sentry-sdk>=1.0.0\n",
      "  Using cached sentry_sdk-1.7.2-py2.py3-none-any.whl (147 kB)\n",
      "Collecting gitdb<5,>=4.0.1\n",
      "  Using cached gitdb-4.0.9-py3-none-any.whl (63 kB)\n",
      "Requirement already satisfied: idna<4,>=2.5 in /opt/conda/lib/python3.8/site-packages (from requests<3,>=2.0.0->wandb) (3.3)\n",
      "Requirement already satisfied: charset-normalizer~=2.0.0 in /opt/conda/lib/python3.8/site-packages (from requests<3,>=2.0.0->wandb) (2.0.4)\n",
      "Requirement already satisfied: certifi>=2017.4.17 in /opt/conda/lib/python3.8/site-packages (from requests<3,>=2.0.0->wandb) (2021.10.8)\n",
      "Requirement already satisfied: urllib3<1.27,>=1.21.1 in /opt/conda/lib/python3.8/site-packages (from requests<3,>=2.0.0->wandb) (1.26.7)\n",
      "Collecting smmap<6,>=3.0.1\n",
      "  Using cached smmap-5.0.0-py3-none-any.whl (24 kB)\n",
      "Installing collected packages: pathtools, smmap, shortuuid, setproctitle, sentry-sdk, promise, docker-pycreds, gitdb, GitPython, wandb\n",
      "Successfully installed GitPython-3.1.27 docker-pycreds-0.4.0 gitdb-4.0.9 pathtools-0.1.2 promise-2.3 sentry-sdk-1.7.2 setproctitle-1.2.3 shortuuid-1.0.9 smmap-5.0.0 wandb-0.12.21\n",
      "\u001b[33mWARNING: Running pip as the 'root' user can result in broken permissions and conflicting behaviour with the system package manager. It is recommended to use a virtual environment instead: https://pip.pypa.io/warnings/venv\u001b[0m\u001b[33m\n",
      "\u001b[0m/opt/conda/lib/python3.8/site-packages/numpy/core/getlimits.py:499: UserWarning: The value of the smallest subnormal for <class 'numpy.float32'> type is zero.\n",
      "  setattr(self, word, getattr(machar, word).flat[0])\n",
      "/opt/conda/lib/python3.8/site-packages/numpy/core/getlimits.py:89: UserWarning: The value of the smallest subnormal for <class 'numpy.float32'> type is zero.\n",
      "  return self._float_to_str(self.smallest_subnormal)\n",
      "/opt/conda/lib/python3.8/site-packages/numpy/core/getlimits.py:499: UserWarning: The value of the smallest subnormal for <class 'numpy.float64'> type is zero.\n",
      "  setattr(self, word, getattr(machar, word).flat[0])\n",
      "/opt/conda/lib/python3.8/site-packages/numpy/core/getlimits.py:89: UserWarning: The value of the smallest subnormal for <class 'numpy.float64'> type is zero.\n",
      "  return self._float_to_str(self.smallest_subnormal)\n",
      "\u001b[34m\u001b[1mwandb\u001b[0m: Currently logged in as: \u001b[33mmanuelgozzi\u001b[0m (\u001b[33mmbari\u001b[0m). Use \u001b[1m`wandb login --relogin`\u001b[0m to force relogin\n"
     ]
    }
   ],
   "source": [
    "!pip install -r deepsea-yolov5/yolov5/requirements.txt\n",
    "!pip install wandb\n",
    "!wandb login # append wandb login key here"
   ]
  },
  {
   "cell_type": "markdown",
   "metadata": {},
   "source": [
    "### Splitting Images into Train and Validate Categories\n",
    "In order to make the data useable with YOLOv5 we need to split the single images directory into a training set and a validation set. The labels to benchmark against are have the same name as the images they correspond to, but with a .txt filename."
   ]
  },
  {
   "cell_type": "markdown",
   "metadata": {},
   "source": [
    "Extract the images found in the tar.gz file into the /opt/ml/input/data directory.\n",
    "```\n",
    "deepsea-yolov5\n",
    "  ├── opt/ml/data\n",
    "  │   ├── images\n",
    "  │   └── labels\n",
    " ...\n",
    " ```\n",
    " The files will be mutated into the following structure upon running"
   ]
  },
  {
   "cell_type": "code",
   "execution_count": 9,
   "metadata": {},
   "outputs": [
    {
     "name": "stdout",
     "output_type": "stream",
     "text": [
      "/opt/conda/lib/python3.8/site-packages/torchvision/io/image.py:11: UserWarning: Failed to load image Python extension: \n",
      "  warn(f\"Failed to load image Python extension: {e}\")\n",
      "Using default path /root/mgozzi-augment/deepsea-yolov5/src/../opt/ml/input/data\n",
      "    Creating: /root/mgozzi-augment/deepsea-yolov5/src/../opt/ml/input/data/images/train\n",
      "    Creating: /root/mgozzi-augment/deepsea-yolov5/src/../opt/ml/input/data/images/val\n",
      "Autosplitting images from /root/mgozzi-augment/deepsea-yolov5/src/../opt/ml/input/data/images\n",
      "100%|██████████████████████████████████████| 1382/1382 [00:10<00:00, 127.77it/s]\n",
      "COMPLETE\n"
     ]
    }
   ],
   "source": [
    "!python ./deepsea-yolov5/src/split.py"
   ]
  },
  {
   "cell_type": "markdown",
   "metadata": {},
   "source": [
    " \n",
    " ```\n",
    "deepsea-yolov5\n",
    "  ├── opt/ml/data\n",
    "  │   ├── images\n",
    "  │   │   ├── train\n",
    "  │   │   │   ├── image1.png\n",
    "  │   │   │   └── ...\n",
    "  │   │   └── val\n",
    "  │   │       ├── image12345.png\n",
    "  │   │       └── ...\n",
    "  │   ├── labels\n",
    "  │   └──...\n",
    " ...\n",
    " ```\n",
    "Run the following script in your terminal of choice in the root of the deepsea-yolov5 directory\n",
    "<code>python .\\src\\split.py</code>\n",
    "<br>This will split the image directory into training and validation directories."
   ]
  },
  {
   "cell_type": "markdown",
   "metadata": {},
   "source": [
    "## Training For Evolutions\n",
    "This will train the network and output the results of the generations to wandb. The best generation will be saved to data/hyps folder under the YOLOv5 directory"
   ]
  },
  {
   "cell_type": "code",
   "execution_count": 7,
   "metadata": {},
   "outputs": [
    {
     "name": "stdout",
     "output_type": "stream",
     "text": [
      "/opt/conda/lib/python3.8/site-packages/torchvision/io/image.py:11: UserWarning: Failed to load image Python extension: \n",
      "  warn(f\"Failed to load image Python extension: {e}\")\n",
      "\u001b[34m\u001b[1mwandb\u001b[0m: Currently logged in as: \u001b[33mmanuelgozzi\u001b[0m (\u001b[33mmbari\u001b[0m). Use \u001b[1m`wandb login --relogin`\u001b[0m to force relogin\n",
      "\u001b[34m\u001b[1mtrain: \u001b[0mweights=yolov5s.pt, cfg=./deepsea-yolov5/yolov5/models/yolov5s.yaml, data=./deepsea-yolov5/opt/ml/custom_config.yaml, hyp=deepsea-yolov5/yolov5/data/hyps/hyp.scratch-low.yaml, epochs=7, batch_size=2, imgsz=640, rect=False, resume=False, nosave=False, noval=False, noautoanchor=False, noplots=False, evolve=3, bucket=, cache=ram, image_weights=False, device=, multi_scale=False, single_cls=False, optimizer=SGD, sync_bn=False, workers=8, project=902005-vaa, name=exp, exist_ok=False, quad=False, cos_lr=False, label_smoothing=0.0, patience=100, freeze=[0], save_period=-1, seed=0, local_rank=-1, entity=None, upload_dataset=False, bbox_interval=-1, artifact_alias=latest\n",
      "\u001b[34m\u001b[1mgithub: \u001b[0m⚠️ YOLOv5 is out of date by 16 commits. Use `git pull` or `git clone https://github.com/ultralytics/yolov5` to update.\n",
      "YOLOv5 🚀 v6.1-291-ga84cd02 Python-3.8.10 torch-1.10.2+cu113 CUDA:0 (Tesla T4, 15110MiB)\n",
      "\n",
      "\u001b[34m\u001b[1mhyperparameters: \u001b[0mlr0=0.01, lrf=0.01, momentum=0.937, weight_decay=0.0005, warmup_epochs=3.0, warmup_momentum=0.8, warmup_bias_lr=0.1, box=0.05, cls=0.5, cls_pw=1.0, obj=1.0, obj_pw=1.0, iou_t=0.2, anchor_t=4.0, fl_gamma=0.0, hsv_h=0.015, hsv_s=0.7, hsv_v=0.4, degrees=0.0, translate=0.1, scale=0.5, shear=0.0, perspective=0.0, flipud=0.0, fliplr=0.5, mosaic=1.0, mixup=0.0, copy_paste=0.0, anchors=3\n",
      "/opt/conda/lib/python3.8/site-packages/numpy/core/getlimits.py:499: UserWarning: The value of the smallest subnormal for <class 'numpy.float32'> type is zero.\n",
      "  setattr(self, word, getattr(machar, word).flat[0])\n",
      "/opt/conda/lib/python3.8/site-packages/numpy/core/getlimits.py:89: UserWarning: The value of the smallest subnormal for <class 'numpy.float32'> type is zero.\n",
      "  return self._float_to_str(self.smallest_subnormal)\n",
      "/opt/conda/lib/python3.8/site-packages/numpy/core/getlimits.py:499: UserWarning: The value of the smallest subnormal for <class 'numpy.float64'> type is zero.\n",
      "  setattr(self, word, getattr(machar, word).flat[0])\n",
      "/opt/conda/lib/python3.8/site-packages/numpy/core/getlimits.py:89: UserWarning: The value of the smallest subnormal for <class 'numpy.float64'> type is zero.\n",
      "  return self._float_to_str(self.smallest_subnormal)\n",
      "\u001b[34m\u001b[1mwandb\u001b[0m: Tracking run with wandb version 0.12.21\n",
      "\u001b[34m\u001b[1mwandb\u001b[0m: Run data is saved locally in \u001b[35m\u001b[1m/root/mgozzi-augment/wandb/run-20220719_220746-qiyzeqnn\u001b[0m\n",
      "\u001b[34m\u001b[1mwandb\u001b[0m: Run \u001b[1m`wandb offline`\u001b[0m to turn off syncing.\n",
      "\u001b[34m\u001b[1mwandb\u001b[0m: Syncing run \u001b[33mtoasty-valley-358\u001b[0m\n",
      "\u001b[34m\u001b[1mwandb\u001b[0m: ⭐️ View project at \u001b[34m\u001b[4mhttps://wandb.ai/mbari/902005-vaa\u001b[0m\n",
      "\u001b[34m\u001b[1mwandb\u001b[0m: 🚀 View run at \u001b[34m\u001b[4mhttps://wandb.ai/mbari/902005-vaa/runs/qiyzeqnn\u001b[0m\n",
      "YOLOv5 temporarily requires wandb version 0.12.10 or below. Some features may not work as expected.\n",
      "Overriding model.yaml anchors with anchors=3\n",
      "\n",
      "                 from  n    params  module                                  arguments                     \n",
      "  0                -1  1      3520  models.common.Conv                      [3, 32, 6, 2, 2]              \n",
      "  1                -1  1     18560  models.common.Conv                      [32, 64, 3, 2]                \n",
      "  2                -1  1     18816  models.common.C3                        [64, 64, 1]                   \n",
      "  3                -1  1     73984  models.common.Conv                      [64, 128, 3, 2]               \n",
      "  4                -1  2    115712  models.common.C3                        [128, 128, 2]                 \n",
      "  5                -1  1    295424  models.common.Conv                      [128, 256, 3, 2]              \n",
      "  6                -1  3    625152  models.common.C3                        [256, 256, 3]                 \n",
      "  7                -1  1   1180672  models.common.Conv                      [256, 512, 3, 2]              \n",
      "  8                -1  1   1182720  models.common.C3                        [512, 512, 1]                 \n",
      "  9                -1  1    656896  models.common.SPPF                      [512, 512, 5]                 \n",
      " 10                -1  1    131584  models.common.Conv                      [512, 256, 1, 1]              \n",
      " 11                -1  1         0  torch.nn.modules.upsampling.Upsample    [None, 2, 'nearest']          \n",
      " 12           [-1, 6]  1         0  models.common.Concat                    [1]                           \n",
      " 13                -1  1    361984  models.common.C3                        [512, 256, 1, False]          \n",
      " 14                -1  1     33024  models.common.Conv                      [256, 128, 1, 1]              \n",
      " 15                -1  1         0  torch.nn.modules.upsampling.Upsample    [None, 2, 'nearest']          \n",
      " 16           [-1, 4]  1         0  models.common.Concat                    [1]                           \n",
      " 17                -1  1     90880  models.common.C3                        [256, 128, 1, False]          \n",
      " 18                -1  1    147712  models.common.Conv                      [128, 128, 3, 2]              \n",
      " 19          [-1, 14]  1         0  models.common.Concat                    [1]                           \n",
      " 20                -1  1    296448  models.common.C3                        [256, 256, 1, False]          \n",
      " 21                -1  1    590336  models.common.Conv                      [256, 256, 3, 2]              \n",
      " 22          [-1, 10]  1         0  models.common.Concat                    [1]                           \n",
      " 23                -1  1   1182720  models.common.C3                        [512, 512, 1, False]          \n",
      " 24      [17, 20, 23]  1     59334  models.yolo.Detect                      [17, [[0, 1, 2, 3, 4, 5], [0, 1, 2, 3, 4, 5], [0, 1, 2, 3, 4, 5]], [128, 256, 512]]\n",
      "[2022-07-19 22:07:48.668 pytorch-1-10-gpu-py-ml-g4dn-xlarge-bd81d1f288c5d63d0571c57fb0b0:360 INFO utils.py:27] RULE_JOB_STOP_SIGNAL_FILENAME: None\n",
      "/opt/conda/lib/python3.8/site-packages/smdebug-1.0.13b20220304-py3.8.egg/smdebug/profiler/system_metrics_reader.py:63: SyntaxWarning: \"is not\" with a literal. Did you mean \"!=\"?\n",
      "/opt/conda/lib/python3.8/site-packages/smdebug-1.0.13b20220304-py3.8.egg/smdebug/profiler/system_metrics_reader.py:63: SyntaxWarning: \"is not\" with a literal. Did you mean \"!=\"?\n",
      "[2022-07-19 22:07:48.807 pytorch-1-10-gpu-py-ml-g4dn-xlarge-bd81d1f288c5d63d0571c57fb0b0:360 INFO profiler_config_parser.py:111] Unable to find config at /opt/ml/input/config/profilerconfig.json. Profiler is disabled.\n",
      "YOLOv5s summary: 270 layers, 7065478 parameters, 7065478 gradients, 16.1 GFLOPs\n",
      "\n",
      "Transferred 342/349 items from yolov5s.pt\n",
      "\u001b[34m\u001b[1mAMP: \u001b[0mchecks passed ✅\n",
      "Scaled weight_decay = 0.0005\n",
      "\u001b[34m\u001b[1moptimizer:\u001b[0m SGD with parameter groups 57 weight (no decay), 60 weight, 60 bias\n",
      "\u001b[34m\u001b[1mtrain: \u001b[0mScanning '/root/mgozzi-augment/deepsea-yolov5/opt/ml/input/data/labels/tr\u001b[0m\n",
      "\u001b[34m\u001b[1mtrain: \u001b[0mWARNING: /root/mgozzi-augment/deepsea-yolov5/opt/ml/input/data/images/train/1f66e28c-3fcf-464b-a4c3-17a6df88685b.png: 1 duplicate labels removed\n",
      "\u001b[34m\u001b[1mtrain: \u001b[0mCaching images (0.8GB ram): 100%|██████████| 1105/1105 [00:32<00:00, 34.1\u001b[0m\n",
      "\u001b[34m\u001b[1mval: \u001b[0mScanning '/root/mgozzi-augment/deepsea-yolov5/opt/ml/input/data/labels/val.\u001b[0m\n",
      "\n",
      "\u001b[34m\u001b[1mAutoAnchor: \u001b[0m0.16 anchors/target, 0.045 Best Possible Recall (BPR). Anchors are a poor fit to dataset ⚠️, attempting to improve...\n",
      "\u001b[34m\u001b[1mAutoAnchor: \u001b[0mRunning kmeans for 9 anchors on 2445 points...\n",
      "\u001b[34m\u001b[1mAutoAnchor: \u001b[0mEvolving anchors with Genetic Algorithm: fitness = 0.8032: 100%|████\u001b[0m\n",
      "\u001b[34m\u001b[1mAutoAnchor: \u001b[0mthr=0.25: 1.0000 best possible recall, 6.95 anchors past thr\n",
      "\u001b[34m\u001b[1mAutoAnchor: \u001b[0mn=9, img_size=640, metric_all=0.444/0.803-mean/best, past_thr=0.529-mean: 15,13, 25,24, 39,26, 31,42, 51,40, 50,68, 77,61, 120,98, 270,263\n",
      "\u001b[34m\u001b[1mAutoAnchor: \u001b[0mDone ✅ (optional: update model *.yaml to use these anchors in the future)\n",
      "NEW ANCHORS FOUND: \n",
      "tensor([[ 15.42915,  13.38624],\n",
      "        [ 24.85543,  23.58689],\n",
      "        [ 38.61192,  26.23169],\n",
      "        [ 31.23208,  42.26392],\n",
      "        [ 51.03910,  39.81005],\n",
      "        [ 50.22870,  67.72894],\n",
      "        [ 76.52731,  60.56149],\n",
      "        [120.28419,  97.93298],\n",
      "        [270.11963, 262.84512]], device='cuda:0')\n",
      "Image sizes 640 train, 640 val\n",
      "Using 2 dataloader workers\n",
      "Logging results to \u001b[1m902005-vaa/exp40\u001b[0m\n",
      "Starting training for 7 epochs...\n",
      "\n",
      "     Epoch   gpu_mem       box       obj       cls    labels  img_size\n",
      "       0/6    0.508G    0.1031   0.03645   0.07479         4       640: 100%|███\n",
      "\n",
      "     Epoch   gpu_mem       box       obj       cls    labels  img_size\n",
      "       1/6    0.508G   0.07335   0.03414   0.06743         6       640: 100%|███\n",
      "\n",
      "     Epoch   gpu_mem       box       obj       cls    labels  img_size\n",
      "       2/6    0.508G   0.06653   0.03135   0.06394         9       640: 100%|███\n",
      "\n",
      "     Epoch   gpu_mem       box       obj       cls    labels  img_size\n",
      "       3/6     0.51G   0.05957   0.03062   0.06204        17       640: 100%|███\n",
      "\n",
      "     Epoch   gpu_mem       box       obj       cls    labels  img_size\n",
      "       4/6     0.51G   0.05595    0.0287   0.06038         6       640:  49%|███^C\n",
      "       4/6     0.51G   0.05595    0.0287   0.06038         6       640:  49%|███\n",
      "Traceback (most recent call last):\n",
      "  File \"./deepsea-yolov5/yolov5/train.py\", line 668, in <module>\n",
      "    main(opt)\n",
      "  File \"./deepsea-yolov5/yolov5/train.py\", line 645, in main\n",
      "    results = train(hyp.copy(), opt, device, callbacks)\n",
      "  File \"./deepsea-yolov5/yolov5/train.py\", line 361, in train\n",
      "    scaler.scale(loss).backward()\n",
      "  File \"/opt/conda/lib/python3.8/site-packages/torch/_tensor.py\", line 307, in backward\n",
      "    torch.autograd.backward(self, gradient, retain_graph, create_graph, inputs=inputs)\n",
      "  File \"/opt/conda/lib/python3.8/site-packages/torch/autograd/__init__.py\", line 154, in backward\n",
      "    Variable._execution_engine.run_backward(\n",
      "KeyboardInterrupt\n"
     ]
    }
   ],
   "source": [
    "# if training for evolutions, set epochs to 10, and evolve to 50\n",
    "# if you desire to graph the evolution with the hyperparaters, add the --hyp path and change the hyperparameter.yaml file located in opt/ml/input/data/hyp.scratch-low.yaml\n",
    "!export WANDB_RUN_GROUP=\"evolution_const_seed\" && python ./deepsea-yolov5/yolov5/train.py \\\n",
    "--img=640 \\\n",
    "--data=./deepsea-yolov5/opt/ml/custom_config.yaml  \\\n",
    "--batch=2 \\\n",
    "--weights=yolov5s.pt \\\n",
    "--cfg=./deepsea-yolov5/yolov5/models/yolov5s.yaml \\\n",
    "--project=\"902005-vaa\"\\\n",
    "--cache \\\n",
    "--epochs=7 \\\n",
    "--evolve=3"
   ]
  },
  {
   "cell_type": "markdown",
   "metadata": {},
   "source": [
    "### To Train Using Current Hyperparameter File\n",
    "***VERY IMPORTANT*** Before running the 50 epochs with the optimal hyperparameters, it is crucial that you copy the anchor points outputted during the evolution runs. Update the <code>yolov5*.yaml</code> file with these values and ensure that the <code>--noautoanchor</code> flag is used. The model file is located under <code>yolov5/models/</code>. "
   ]
  },
  {
   "cell_type": "code",
   "execution_count": 5,
   "metadata": {},
   "outputs": [
    {
     "name": "stdout",
     "output_type": "stream",
     "text": [
      "/opt/conda/lib/python3.8/site-packages/torchvision/io/image.py:11: UserWarning: Failed to load image Python extension: \n",
      "  warn(f\"Failed to load image Python extension: {e}\")\n",
      "\u001b[34m\u001b[1mwandb\u001b[0m: Currently logged in as: \u001b[33mmanuelgozzi\u001b[0m (\u001b[33mmbari\u001b[0m). Use \u001b[1m`wandb login --relogin`\u001b[0m to force relogin\n",
      "usage: train.py [-h] [--weights WEIGHTS] [--cfg CFG] [--data DATA] [--hyp HYP]\n",
      "                [--epochs EPOCHS] [--batch-size BATCH_SIZE] [--imgsz IMGSZ]\n",
      "                [--rect] [--resume [RESUME]] [--nosave] [--noval]\n",
      "                [--noautoanchor] [--noplots] [--evolve [EVOLVE]]\n",
      "                [--bucket BUCKET] [--cache [CACHE]] [--image-weights]\n",
      "                [--device DEVICE] [--multi-scale] [--single-cls]\n",
      "                [--optimizer {SGD,Adam,AdamW}] [--sync-bn] [--workers WORKERS]\n",
      "                [--project PROJECT] [--name NAME] [--exist-ok] [--quad]\n",
      "                [--cos-lr] [--label-smoothing LABEL_SMOOTHING]\n",
      "                [--patience PATIENCE] [--freeze FREEZE [FREEZE ...]]\n",
      "                [--save-period SAVE_PERIOD] [--seed SEED]\n",
      "                [--local_rank LOCAL_RANK] [--entity ENTITY]\n",
      "                [--upload_dataset [UPLOAD_DATASET]]\n",
      "                [--bbox_interval BBOX_INTERVAL]\n",
      "                [--artifact_alias ARTIFACT_ALIAS]\n",
      "train.py: error: unrecognized arguments: \\\n"
     ]
    }
   ],
   "source": [
    "# Change the contents of the deeosea-yolov5/opt/ml/input/data/hyp.scratch-low.yaml \n",
    "# to utilize the best found hyperparameters from the evolutions performed above. \n",
    "!export WANDB_RUN_GROUP=\"hyperparam_const_seed\" && python ./deepsea-yolov5/yolov5/train.py \\\n",
    "--img=640 \\\n",
    "--data=./deepsea-yolov5/opt/ml/custom_config.yaml  \\\n",
    "--batch=2 \\\n",
    "--weights=yolov5s.pt \\\n",
    "--cfg=./deepsea-yolov5/yolov5/models/yolov5s.yaml \\\n",
    "--hyp=./deepsea-yolov5/opt/ml/input/data/hyp.scratch-low.yaml \\\n",
    "--project=\"902005-vaa\"\\\n",
    "--noautoanchor \\\n",
    "--cache \\\n",
    "--epochs=7"
   ]
  },
  {
   "cell_type": "markdown",
   "metadata": {},
   "source": [
    "## Running a sweep (doesn't work well yet)"
   ]
  },
  {
   "cell_type": "code",
   "execution_count": null,
   "metadata": {
    "scrolled": true
   },
   "outputs": [],
   "source": [
    "!pip install wandb\n",
    "\n",
    "import os\n",
    "os.environ['WANDB_PROJECT']=\"902005-vaa\"\n",
    "\n",
    "!wandb sweep deepsea-yolov5/yolov5/utils/loggers/wandb/sweep.yaml"
   ]
  },
  {
   "cell_type": "code",
   "execution_count": null,
   "metadata": {},
   "outputs": [],
   "source": [
    "# replace mbari/.../... with output from command above\n",
    "!wandb agent mbari/902005-vaa/w8krnvak"
   ]
  }
 ],
 "metadata": {
  "kernelspec": {
   "display_name": "Python 3 (PyTorch 1.10 Python 3.8 GPU Optimized)",
   "language": "python",
   "name": "python3__SAGEMAKER_INTERNAL__arn:aws:sagemaker:us-west-2:236514542706:image/pytorch-1.10-gpu-py38"
  },
  "language_info": {
   "codemirror_mode": {
    "name": "ipython",
    "version": 3
   },
   "file_extension": ".py",
   "mimetype": "text/x-python",
   "name": "python",
   "nbconvert_exporter": "python",
   "pygments_lexer": "ipython3",
   "version": "3.8.10"
  },
  "vscode": {
   "interpreter": {
    "hash": "10473cd72beb9f903a0df0895b8cbe75ad84c2c6b795c916562cda13d35a2cb5"
   }
  }
 },
 "nbformat": 4,
 "nbformat_minor": 4
}
